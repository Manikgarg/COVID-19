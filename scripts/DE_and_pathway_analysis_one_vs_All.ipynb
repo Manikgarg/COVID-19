{
 "cells": [
  {
   "cell_type": "code",
   "execution_count": null,
   "metadata": {},
   "outputs": [],
   "source": [
    "import scanpy as sc\n",
    "import pandas as pd\n",
    "import sys\n",
    "import os\n",
    "import warnings\n",
    "from gprofiler import GProfiler\n",
    "warnings.filterwarnings(\"ignore\")\n",
    "\n",
    "#import gseapy"
   ]
  },
  {
   "cell_type": "code",
   "execution_count": null,
   "metadata": {},
   "outputs": [],
   "source": [
    "adata = sc.read('../../data/all11sets_hm.h5')"
   ]
  },
  {
   "cell_type": "markdown",
   "metadata": {},
   "source": [
    "### DE GENES"
   ]
  },
  {
   "cell_type": "code",
   "execution_count": null,
   "metadata": {},
   "outputs": [],
   "source": [
    "studies = ['Lee et al.', 'Wilk et al.', 'Li et al.', 'Yu et al.', 'Zhang et al.', 'Wen et al.', 'Liao et al.', 'Chua et al.']\n",
    "for currentStudy in studies:\n",
    "    temp = adata[adata.obs.study==currentStudy]\n",
    "    print(currentStudy)\n",
    "    cell_types = [x for x in temp.obs.cell_type.unique().to_list() if x not in ['doublets','Epithelial','Megakaryocytes','Platelets']]\n",
    "    for currentCell in cell_types:\n",
    "        print(currentCell)\n",
    "        sub = temp[temp.obs.cell_type==currentCell]\n",
    "        try:\n",
    "            sc.tl.rank_genes_groups(sub, 'stage', method='wilcoxon', n_genes=5000)\n",
    "            result = sub.uns['rank_genes_groups']\n",
    "            groups = result['names'].dtype.names\n",
    "            df = pd.DataFrame({group + '_' + key[:1]: result[key][group] for group in groups for key in ['names', 'logfoldchanges', 'pvals_adj']})\n",
    "            df.to_csv('../../dePathwayAndOtherAnalysisInR/results/DE/DE_'+currentStudy+'_'+currentCell+'.csv')\n",
    "        except:\n",
    "            pass"
   ]
  },
  {
   "cell_type": "markdown",
   "metadata": {},
   "source": [
    "### The following R-code selects the common DE genes across studies for each stage, for each cell-type"
   ]
  },
  {
   "cell_type": "code",
   "execution_count": null,
   "metadata": {},
   "outputs": [],
   "source": [
    "### R code ###\n",
    "### Select common DE across studies for each stage, for each cell-type\n",
    "# allFiles <- list.files('../../dePathwayAndOtherAnalysisInR/results/DE/', pattern = \"DE_.*\", full.names = TRUE)\n",
    "# df <- data.frame()\n",
    "# for(file in allFiles){\n",
    "#     temp<-read.csv(file)\n",
    "#     temp<-temp[, -1]\n",
    "#     divCols<-ncol(temp)\n",
    "#     temp1<-data.frame()\n",
    "#     for(n in 1:(divCols/3)){\n",
    "#         sub<-temp[, ((3*n)-2):(3*n)]\n",
    "#         sub$stage<-unique(unlist(strsplit(names(sub), split=\"_\")))[1]\n",
    "#         names(sub)<-c(\"gene\", \"lfc\", \"padj\", \"stage\")\n",
    "#         temp1<-rbind(sub, temp1)\n",
    "#     }\n",
    "#         title<-unlist(strsplit(tools::file_path_sans_ext(basename(file)), split=\"_\"))\n",
    "#         temp1$study<-title[2]\n",
    "#         temp1$cell_type<-title[3]\n",
    "#     df<-rbind(temp1, df)\n",
    "#     }\n",
    "\n",
    "# #Keep differentially expressed genes only\n",
    "# df_de<-df[df$padj<0.05, ]\n",
    "# df_de<-df_de[-c(grep(\"^RPS\", df_de$gene), grep(\"^RPL\", df_de$gene), \n",
    "#                 grep(\"^MT-\", df_de$gene), grep(\"^MTR\", df_de$gene),\n",
    "#                 grep(\"^RNA1\\\\dS5\", df_de$gene)),]\n",
    "\n",
    "# common_genes_in_all_studies<-data.frame()\n",
    "# for(currentStage in unique(df_de$stage)){\n",
    "#     for(currentCell in unique(df_de$cell_type)){\n",
    "#         sub<-droplevels(df_de[(df_de$stage==currentStage) & (df_de$cell_type==currentCell) &(!df_de$study%in%c('Chua et al.', 'Liao et al.')), ])\n",
    "#         freq_table<-data.frame(table(sub$gene))\n",
    "#         #interested only in genes that occur in all the studies having that stage\n",
    "#         common_genes_in_all_studies<-rbind(sub[sub$gene %in% \n",
    "#                                                freq_table$Var1[freq_table$Freq==length(unique(sub$study))], ],\n",
    "#                                            common_genes_in_all_studies)\n",
    "        \n",
    "#     }\n",
    "# }\n",
    "# write.table(common_genes_in_all_studies, \"../../dePathwayAndOtherAnalysisInR/results/DE/common_genes_in_all_studies_chua_liao_excluded.csv\",\n",
    "#            sep=\",\", col.names=TRUE, row.names=TRUE, quote=FALSE)"
   ]
  },
  {
   "cell_type": "markdown",
   "metadata": {},
   "source": [
    "## Pathway analysis"
   ]
  },
  {
   "cell_type": "code",
   "execution_count": null,
   "metadata": {},
   "outputs": [],
   "source": [
    "df = pd.read_csv(\"../../dePathwayAndOtherAnalysisInR/results/DE/common_genes_in_all_studies_chua_liao_excluded.csv\")\n",
    "\n",
    "for index, row in df.loc[:, ['stage', 'cell_type']].drop_duplicates().iterrows():\n",
    "    markers = df[(df.cell_type==row['cell_type'])&(df.stage==row['stage'])].gene.unique().tolist()\n",
    "    gp = GProfiler(return_dataframe=True, user_agent='g:GOSt')\n",
    "    enrichmentResults = gp.profile(organism='hsapiens', user_threshold=0.05,\n",
    "                               significance_threshold_method='g_SCS', \n",
    "                               background=adata.var_names.tolist(), \n",
    "                               ordered=True, no_iea=True,\n",
    "                               query=markers)\n",
    "    outEnrich='../../dePathwayAndOtherAnalysisInR/results/DE/GProfiler_'+row['cell_type']+'_'+row['stage']+'.tsv'\n",
    "    enrichmentResults.to_csv(outEnrich, sep = \"\\t\")"
   ]
  },
  {
   "cell_type": "markdown",
   "metadata": {},
   "source": [
    "### Plotting pathway analysis results"
   ]
  },
  {
   "cell_type": "code",
   "execution_count": 1,
   "metadata": {},
   "outputs": [
    {
     "ename": "ModuleNotFoundError",
     "evalue": "No module named 'gprofiler_plotting'",
     "output_type": "error",
     "traceback": [
      "\u001b[0;31m---------------------------------------------------------------------------\u001b[0m",
      "\u001b[0;31mModuleNotFoundError\u001b[0m                       Traceback (most recent call last)",
      "\u001b[0;32m<ipython-input-1-4aa9141c1fa4>\u001b[0m in \u001b[0;36m<module>\u001b[0;34m\u001b[0m\n\u001b[0;32m----> 1\u001b[0;31m \u001b[0;32mfrom\u001b[0m \u001b[0mgprofiler_plotting\u001b[0m \u001b[0;32mimport\u001b[0m \u001b[0mplot_enrich\u001b[0m\u001b[0;34m\u001b[0m\u001b[0;34m\u001b[0m\u001b[0m\n\u001b[0m\u001b[1;32m      2\u001b[0m \u001b[0;32mimport\u001b[0m \u001b[0mmatplotlib\u001b[0m\u001b[0;34m.\u001b[0m\u001b[0mpyplot\u001b[0m \u001b[0;32mas\u001b[0m \u001b[0mplt\u001b[0m\u001b[0;34m\u001b[0m\u001b[0;34m\u001b[0m\u001b[0m\n\u001b[1;32m      3\u001b[0m \u001b[0mplt\u001b[0m\u001b[0;34m.\u001b[0m\u001b[0mrcParams\u001b[0m\u001b[0;34m[\u001b[0m\u001b[0;34m'figure.figsize'\u001b[0m\u001b[0;34m]\u001b[0m \u001b[0;34m=\u001b[0m \u001b[0;34m[\u001b[0m\u001b[0;36m10\u001b[0m\u001b[0;34m,\u001b[0m \u001b[0;36m10\u001b[0m\u001b[0;34m]\u001b[0m\u001b[0;34m\u001b[0m\u001b[0;34m\u001b[0m\u001b[0m\n\u001b[1;32m      4\u001b[0m \u001b[0mpd\u001b[0m\u001b[0;34m.\u001b[0m\u001b[0mset_option\u001b[0m\u001b[0;34m(\u001b[0m\u001b[0;34m\"display.max_colwidth\"\u001b[0m\u001b[0;34m,\u001b[0m \u001b[0;36m800\u001b[0m\u001b[0;34m)\u001b[0m\u001b[0;34m\u001b[0m\u001b[0;34m\u001b[0m\u001b[0m\n\u001b[1;32m      5\u001b[0m \u001b[0mgroup\u001b[0m\u001b[0;34m=\u001b[0m\u001b[0;34m'GProfiler_CD14 monocytes_Severe'\u001b[0m\u001b[0;34m\u001b[0m\u001b[0;34m\u001b[0m\u001b[0m\n",
      "\u001b[0;31mModuleNotFoundError\u001b[0m: No module named 'gprofiler_plotting'"
     ]
    }
   ],
   "source": [
    "from gprofiler_plotting import plot_enrich\n",
    "import matplotlib.pyplot as plt\n",
    "plt.rcParams['figure.figsize'] = [10, 10]\n",
    "pd.set_option(\"display.max_colwidth\", 800)\n",
    "group='GProfiler_CD14 monocytes_Severe'\n",
    "pathways = pd.read_csv('../../dePathwayAndOtherAnalysisInR/results/DE/'+group+'.tsv', sep=\"\\t\")\n",
    "#pathways[pathways.source=='GO:BP'].name.unique().tolist()\n",
    "enrich_results = pathways[pathways.source=='GO:BP'].set_index('native').sort_values('p_value').loc[:,['p_value','term_size','intersection_size','recall','name']]\n",
    "enrich_results.iloc[:50,:]\n",
    "plot_enrich(enrich_results, n_terms=30, save='../../dePathwayAndOtherAnalysisInR/results/DE/'+group+'.pdf')"
   ]
  },
  {
   "cell_type": "code",
   "execution_count": null,
   "metadata": {},
   "outputs": [],
   "source": []
  }
 ],
 "metadata": {
  "kernelspec": {
   "display_name": "Python 3",
   "language": "python",
   "name": "python3"
  },
  "language_info": {
   "codemirror_mode": {
    "name": "ipython",
    "version": 3
   },
   "file_extension": ".py",
   "mimetype": "text/x-python",
   "name": "python",
   "nbconvert_exporter": "python",
   "pygments_lexer": "ipython3",
   "version": "3.8.2"
  }
 },
 "nbformat": 4,
 "nbformat_minor": 4
}
