{
 "cells": [
  {
   "cell_type": "code",
   "execution_count": null,
   "metadata": {},
   "outputs": [],
   "source": [
    "import scanpy as sc\n",
    "import pandas as pd\n",
    "import re"
   ]
  },
  {
   "cell_type": "code",
   "execution_count": null,
   "metadata": {},
   "outputs": [],
   "source": [
    "adata = sc.read('/nfs/leia/research/ma/manikg/COVID-19sc/meta-analysis/data/all11sets_hm.h5')"
   ]
  },
  {
   "cell_type": "code",
   "execution_count": null,
   "metadata": {},
   "outputs": [],
   "source": [
    "adata"
   ]
  },
  {
   "cell_type": "code",
   "execution_count": 9,
   "metadata": {},
   "outputs": [
    {
     "data": {
      "text/plain": [
       "['activated T',\n",
       " '$\\\\gamma\\\\delta$ T',\n",
       " 'CD14 monocytes',\n",
       " 'Naïve T',\n",
       " 'mito-high NK',\n",
       " 'NK',\n",
       " 'B',\n",
       " 'doublets',\n",
       " 'B VDJ',\n",
       " 'DC',\n",
       " 'Platelets',\n",
       " 'Neutrophils',\n",
       " 'CD8 T',\n",
       " 'Megakaryocytes',\n",
       " 'CD16 monocytes',\n",
       " 'Epithelial',\n",
       " 'pDC',\n",
       " 'Plasma']"
      ]
     },
     "execution_count": 9,
     "metadata": {},
     "output_type": "execute_result"
    }
   ],
   "source": [
    "adata.obs.cell_type2.unique().to_list()"
   ]
  },
  {
   "cell_type": "code",
   "execution_count": 10,
   "metadata": {},
   "outputs": [
    {
     "data": {
      "text/plain": [
       "['CD8 T',\n",
       " '$\\\\gamma\\\\delta$ T',\n",
       " 'CD14 monocytes',\n",
       " 'CD4 T',\n",
       " 'mito-high NK',\n",
       " 'NK',\n",
       " 'Naïve B',\n",
       " 'doublets',\n",
       " 'B VDJ',\n",
       " 'DC',\n",
       " 'Platelets',\n",
       " 'Memory B',\n",
       " 'Neutrophils',\n",
       " 'Megakaryocytes',\n",
       " 'CD16 monocytes',\n",
       " 'Epithelial',\n",
       " 'pDC',\n",
       " 'Plasma']"
      ]
     },
     "execution_count": 10,
     "metadata": {},
     "output_type": "execute_result"
    }
   ],
   "source": [
    "adata.obs.cell_type.unique().to_list()"
   ]
  },
  {
   "cell_type": "code",
   "execution_count": 8,
   "metadata": {},
   "outputs": [
    {
     "data": {
      "text/plain": [
       "Moderate        4\n",
       "Mild            3\n",
       "Asymptomatic    2\n",
       "Healthy         2\n",
       "Severe          1\n",
       "Influenza       0\n",
       "Convalescent    0\n",
       "Post Mild       0\n",
       "Name: severity, dtype: int64"
      ]
     },
     "execution_count": 8,
     "metadata": {},
     "output_type": "execute_result"
    }
   ],
   "source": [
    "adata.obs.loc[adata.obs.study=='Li et al.', ['severity', 'stage', 'condition', 'sample']].drop_duplicates().severity.value_counts()"
   ]
  },
  {
   "cell_type": "markdown",
   "metadata": {},
   "source": [
    "### GENE MODULE SCORES"
   ]
  },
  {
   "cell_type": "code",
   "execution_count": 13,
   "metadata": {},
   "outputs": [
    {
     "name": "stderr",
     "output_type": "stream",
     "text": [
      "/homes/manikg/miniconda3/envs/sc-tutorial/lib/python3.8/site-packages/anndata/_core/anndata.py:1094: FutureWarning: is_categorical is deprecated and will be removed in a future version.  Use is_categorical_dtype instead\n",
      "  if not is_categorical(df_full[k]):\n"
     ]
    },
    {
     "data": {
      "text/plain": [
       "View of AnnData object with n_obs × n_vars = 610442 × 33239\n",
       "    obs: 'sample', 'condition', 'tissue', 'sample_type', 'cell_subsets', 'RNA_test', 'gender', 'age', 'study', 'accession', 'doublets_score', 'doublets_prediction', 'name', 'sample_new', 'group', 'disease', 'hasnCoV', 'cluster', 'celltype', 'Ventilated', 'Status', 'Sex', 'Donor_full', 'Admission', 'ClusterID', 'ClusterName', 'celltype_sub', 'infection', 'location', 'patient', 'severity', 'sex', 'simplified_condition', 'barcode', 'vdj_obs', 'n_genes', 'percent_mito', 'n_counts', 'log_counts', 'log_genes', 'batch', 'louvain', 'louvain_r1', 'class', 'cell', 'cell_fine', 'cell_type', 'cell_coarse', 'stage', 'tissue1', 'cell_type2', 'cell1'\n",
       "    var: 'gene_ids', 'n_cells', 'highly_variable', 'means', 'dispersions', 'dispersions_norm'\n",
       "    uns: 'batch_colors', 'cell1_colors', 'cell_coarse_colors', 'cell_colors', 'cell_fine_colors', 'cell_type2_colors', 'cell_type_colors', 'class_colors', 'doublets_prediction_colors', 'louvain', 'louvain_colors', 'louvain_r1_colors', 'neighbors', 'pca', 'rank_genes_groups', 'severity', 'severity_colors', 'simplified_condition_colors', 'stage', 'stage_colors', 'study_colors', 'tissue1_colors', 'tissue_colors', 'umap'\n",
       "    obsm: 'X_harmonypca', 'X_pca', 'X_umap', 'X_umapharmony', 'X_umapraw'\n",
       "    varm: 'PCs'\n",
       "    obsp: 'connectivities', 'distances'"
      ]
     },
     "execution_count": 13,
     "metadata": {},
     "output_type": "execute_result"
    }
   ],
   "source": [
    "#Restrict this analysis for these 4 stages only\n",
    "adata_sub = adata[adata.obs.stage.isin(['Healthy' ,'Mild', 'Moderate', 'Severe'])]\n",
    "adata_sub"
   ]
  },
  {
   "cell_type": "code",
   "execution_count": 11,
   "metadata": {},
   "outputs": [],
   "source": [
    "#HLA class II genes\n",
    "gene_list_dict = {'HLA_classII': [m.group(0) for l in adata.var_names.to_list() for m in [re.match('^HLA-D.*', l)] if m],\n",
    "\n",
    "#ISG genes\n",
    "                  'ISG':['ADAR','B2M','BATF2','BST2','C1S','CASP1','CASP8','CCRL2','CD47','CD74','CMPK2','CMTR1','CNP','CSF1','CXCL10','CXCL11','DDX60','DHX58','EIF2AK2','ELF1','EPSTI1','GBP2','GBP4','GMPR','HELZ2','HERC6','HLA-C','IFI27','IFI30','IFI35','IFI44','IFI44L','IFIH1','IFIT2','IFIT3','IFITM1','IFITM2','IFITM3','IL15','IL4R','IL7','IRF1','IRF2','IRF7','IRF9','ISG15','ISG20','LAMP3','LAP3','LGALS3BP','LPAR6','LY6E','MOV10','MVB12A','MX1','NCOA7','NMI','NUB1','OAS1','OASL','OGFR','PARP12','PARP14','PARP9','PLSCR1','PNPT1','PROCR','PSMA3','PSMB8','PSMB9','PSME1','PSME2','RIPK2','RNF31','RSAD2','RTP4','SAMD9','SAMD9L','SELL','SLC25A28','SP110','STAT2','TAP1','TDRD7','TENT5A','TMEM140','TRAFD1','TRIM14','TRIM21','TRIM25','TRIM26','TRIM5','TXNIP','UBA7','UBE2L6','USP18','WARS1']\n",
    "#HALLMARK gene lists\n",
    "# #Interferon alpha\n",
    "# 'HALLMARK_INTERFERON_ALPHA_RESPONSE': ['MX1','ISG15','OAS1','IFIT3','IFI44','IFI35','IRF7','RSAD2','IFI44L','IFITM1','IFI27','IRF9','OASL','EIF2AK2','IFIT2','CXCL10','TAP1','SP110','DDX60','UBE2L6','USP18','PSMB8','IFIH1','BST2','LGALS3BP','ADAR','ISG20','GBP2','IRF1','PLSCR1','PSMB9','HERC6','SAMD9','CMPK2','IFITM3','RTP4','STAT2','SAMD9L','LY6E','IFITM2','HELZ2','CXCL11','TRIM21','PARP14','TRIM26','PARP12','NMI','RNF31','HLA-C','CASP1','TRIM14','TDRD7','DHX58','PARP9','PNPT1','TRIM25','PSME1','WARS1','EPSTI1','UBA7','PSME2','B2M','TRIM5','C1S','LAP3','LAMP3','GBP4','NCOA7','TMEM140','CD74','GMPR','PSMA3','PROCR','IL7','IFI30','IRF2','CSF1','IL15','CNP','TENT5A','IL4R','CMTR1','CD47','LPAR6','MOV10','CASP8','TXNIP','SLC25A28','SELL','TRAFD1','BATF2','RIPK2','CCRL2','NUB1','OGFR','MVB12A','ELF1'],\n",
    "\n",
    "# #Interferon gamma\n",
    "# 'HALLMARK_INTERFERON_GAMMA_RESPONSE': ['STAT1','ISG15','IFIT1','MX1','IFIT3','IFI35','IRF7','IFIT2','OAS2','TAP1','EIF2AK2','RSAD2','MX2','IRF1','OAS3','TNFSF10','IRF9','CXCL10','IFI44','BST2','XAF1','SP110','OASL','PSMB8','IFI44L','IFITM3','DDX60','LGALS3BP','GBP4','IRF8','PSMB9','PML','IFIH1','UBE2L6','IFI27','ADAR','LY6E','STAT2','CXCL9','IL10RA','PLA2G4A','TRIM21','USP18','PTGS2','EPSTI1','C1S','DDX58','IL15','NLRC5','NMI','IDO1','PSMB10','CXCL11','ITGB7','SAMHD1','HERC6','CMPK2','SAMD9L','RTP4','PTPN2','PARP14','TNFAIP2','IFITM2','PLSCR1','SOCS1','CASP1','ICAM1','WARS1','PSME1','ISG20','IRF2','TRIM14','FCGR1A','MARCHF1','SOCS3','JAK2','HLA-DMA','PARP12','TNFAIP6','TRIM26','VCAM1','CD274','CIITA','NAMPT','SELP','GPR18','FPR1','HELZ2','PSME2','SERPING1','CCL5','RNF31','SOD2','TRIM25','LAP3','PSMA3','RNF213','PELI1','CFB','CD86','TXNIP','HLA-DQA1','GCH1','PNP','CCL7','PTPN6','SPPL2A','IL4R','PNPT1','DHX58','BTG1','CASP8','IFI30','CCL2','FGL2','CASP7','SECTM1','IL15RA','CD40','TRAFD1','HLA-DRB1','GBP6','LCP2','HLA-G','MT2A','RIPK1','KLRK1','UPP1','PSMB2','TDRD7','HIF1A','EIF4E3','VAMP8','PFKP','CD38','ZBP1','BANK1','TOR1B','RBCK1','PDE4B','MVP','IL7','BPGM','CMTR1','AUTS2','B2M','RIPK2','CD69','MYD88','PSMA2','PIM1','NOD1','CFH','TAPBP','SLC25A28','PTPN1','TNFAIP3','SSPN','NUP93','MTHFD2','CDKN1A','IRF4','NFKB1','BATF2','HLA-B','LATS2','IRF5','SLAMF7','ISOC1','P2RY14','STAT3','NCOA3','HLA-A','IL6','GZMA','IFNAR2','CD74','RAPGEF6','CASP4','FAS','OGFR','ARL4A','SRI','LYSMD2','CSF2RB','ST3GAL5','C1R','CASP3','CMKLR1','NFKBIA','METTL7B','ST8SIA4','XCL1','IL2RB','VAMP5','IL18BP','ZNFX1','ARID5B','APOL6','STAT4'],\n",
    "\n",
    "# #Inflammatory response\n",
    "# 'HALLMARK_INFLAMMATORY_RESPONSE': ['CXCL10','CCL2','CCL5','FPR1','CCL20','IL1A','CXCL8','CCL7','CCL22','CXCL11','CCR7','EDN1','CD40','CXCL9','IL6','IL1B','TLR2','IL1R1','CD69','ICAM1','CCRL2','AQP9','EREG','C3AR1','GNA15','CMKLR1','PTGER4','LIF','IL15','NAMPT','OPRK1','ITGB8','PTAFR','ADM','PLAUR','NFKB1','INHBA','OSM','TNFSF10','TNFSF15','IFNGR2','ADGRE1','IL12B','CSF1','CXCL6','TNFRSF9','LYN','ACVR2A','LDLR','BDKRB1','HRH1','F3','BST2','PTGIR','CD55','CALCRL','CSF3','GPR132','IL4R','NLRP3','IL15RA','ADORA2B','GCH1','OLR1','PTGER2','CSF3R','MYC','RELA','TNFAIP6','IL7R','IL18','GABBR1','CD82','TNFSF9','NMUR1','IL2RB','TLR1','LPAR1','IRAK2','RIPK2','MMP14','P2RX7','SLC11A2','SELL','P2RY2','ABCA1','FFAR2','PROK2','GNAI3','TACR1','SLC7A1','CDKN1A','CYBB','TIMP1','HBEGF','SCARF1','EBI3','NFKBIA','SRI','SLC7A2','CCL17','TLR3','APLNR','OSMR','IL10RA','PSEN1','GPR183','ATP2B1','TNFRSF1B','BEST1','GPC3','SCN1B','ACVR1B','HPN','SEMA4D','KLF6','CD48','CXCR6','SLC1A2','GP1BA','TAPBP','RGS16','SLAMF1','LCK','HIF1A','AHR','NMI','RHOG','TPBG','NPFFR2','IFNAR1','ICOSLG','RASGRP1','IFITM1','KCNJ2','LY6E','IL18R1','IL10','KCNA3','HAS2','DCBLD2','LAMP3','VIP','CD70','RGS1','SLC31A1','ADRM1','KCNMB2','SERPINE1','MXD1','AXL','MEFV','PVR','CCL24','PDE4B','LCP2','PDPN','IRF7','MET','ATP2A2','SLC31A2','FZD5','ITGA5','SGMS2','MARCO','CD14','EIF2AK2','ROS1','ATP2C1','NDP','BTG2','MSR1','PTPRE','RNF144B','PCDH7','SPHK1','IL18RAP','RTP4','RAF1','CHST2','ITGB3','KIF1B','SELE','NOD2','C5AR1','EMP3','CLEC5A','TACR3','SLC4A4','MEP1A','SELENOS','LTA','PIK3R5','STAB1','IRF1','ICAM4','P2RX4','ABI1','CX3CL1','SLC28A2'],\n",
    "\n",
    "# #TNF-A response\n",
    "# 'HALLMARK_TNFA_SIGNALING_VIA_NFKB': ['JUNB','CXCL2','ATF3','NFKBIA','TNFAIP3','PTGS2','CXCL1','IER3','CD83','CCL20','CXCL3','MAFF','NFKB2','TNFAIP2','HBEGF','KLF6','BIRC3','PLAUR','ZFP36','ICAM1','JUN','EGR3','IL1B','BCL2A1','PPP1R15A','ZC3H12A','SOD2','NR4A2','IL1A','RELB','TRAF1','BTG2','DUSP1','MAP3K8','ETS2','F3','SDC4','EGR1','IL6','TNF','KDM6B','NFKB1','LIF','PTX3','FOSL1','NR4A1','JAG1','CCL4','GCH1','CCL2','RCAN1','DUSP2','EHD1','IER2','REL','CFLAR','RIPK2','NFKBIE','NR4A3','PHLDA1','IER5','TNFSF9','GEM','GADD45A','CXCL10','PLK2','BHLHE40','EGR2','SOCS3','SLC2A6','PTGER4','DUSP5','SERPINB2','NFIL3','SERPINE1','TRIB1','TIPARP','RELA','BIRC2','CXCL6','LITAF','TNFAIP6','CD44','INHBA','PLAU','MYC','TNFRSF9','SGK1','TNIP1','NAMPT','FOSL2','PNRC1','ID2','CD69','IL7R','EFNA1','PHLDA2','PFKFB3','CCL5','YRDC','IFNGR2','SQSTM1','BTG3','GADD45B','KYNU','G0S2','BTG1','MCL1','VEGFA','MAP2K3','CDKN1A','CCN1','TANK','IFIT2','IL18','TUBB2A','IRF1','FOS','OLR1','RHOB','AREG','NINJ1','ZBTB10','PLPP3','KLF4','CXCL11','SAT1','CSF1','GPR183','PMEPA1','PTPRE','TLR2','ACKR3','KLF10','MARCKS','LAMB3','CEBPB','TRIP10','F2RL1','KLF9','LDLR','TGIF1','RNF19B','DRAM1','B4GALT1','DNAJB4','CSF2','PDE4B','SNN','PLEK','STAT5A','DENND5A','CCND1','DDX58','SPHK1','CD80','TNFAIP8','CCNL1','FUT4','CCRL2','SPSB1','TSC22D1','B4GALT5','SIK1','CLCF1','NFE2L2','FOSB','PER1','NFAT5','ATP2B1','IL12B','IL6ST','SLC16A6','ABCA1','HES1','BCL6','IRS2','SLC2A3','CEBPD','IL23A','SMAD3','TAP1','MSC','IFIH1','IL15RA','TNIP2','BCL3','PANX1','FJX1','EDN1','EIF1','BMP2','DUSP4','PDLIM5','ICOSLG','GFPT2','KLF2','TNC','SERPINB8','MXD1'],\n",
    "\n",
    "# #IL2 STAT5\n",
    "# 'HALLMARK_IL2_STAT5_SIGNALING': ['SOCS2','CISH','PIM1','IL2RA','TNFRSF4','SOCS1','TNFRSF9','XBP1','RRAGD','HK2','PHLDA1','IL2RB','CTLA4','NFIL3','CD83','IKZF2','IL10','TNFRSF18','DHRS3','ECM1','ADAM19','SLC2A3','HIPK2','BATF3','BHLHE40','PTGER2','DENND5A','ITIH5','PHTF2','GADD45B','NRP1','NCOA3','CD79B','AHR','TNFRSF1B','NDRG1','BCL2L1','GABARAPL1','LIF','TIAM1','BMPR2','MAP3K8','RHOB','MYC','S100A1','ETFBKMT','CAPG','ST3GAL4','PENK','IRF4','CST7','WLS','TLR7','IKZF4','GBP4','RGS16','SPP1','IL13','SLC29A2','NFKBIZ','IL4R','MXD1','CSF2','FAH','CTSZ','ITGAE','MUC1','MAPKAPK2','TNFRSF21','NT5E','FLT3LG','CCND2','TRAF1','LCLAT1','IL3RA','CYFIP1','BCL2','FGL2','PRNP','EEF1AKMT1','PUS1','ITGAV','NCS1','DCPS','AMACR','FAM126B','PTH1R','ODC1','IGF1R','PTCH1','ENO3','CD81','MAFF','EMP1','CDKN1C','CAPN3','IL1R2','SYT11','TTC39B','ANXA4','BATF','P4HA1','GPR65','SLC1A5','IGF2R','CKAP4','CCR4','CD44','P2RX4','GATA1','KLF6','ARL4A','HOPX','GPR83','ITGA6','CD48','DRC1','SELP','GLIPR2','SMPDL3A','PLSCR1','FURIN','SERPINB6','TNFSF11','GPX4','LRRC8C','CCNE1','CASP3','SH3BGRL2','SNX9','PLEC','BMP2','ICOS','ALCAM','LTB','ENPP1','IL1RL1','MYO1C','IFNGR1','PLIN2','IL18R1','AHNAK','PRKCH','TNFRSF8','SYNGR2','GALM','POU2F1','EOMES','NOP2','PTRH2','RHOH','CDC6','MYO1E','CXCL10','SNX14','IRF6','IL10RA','MAP6','TNFSF10','SPRED2','SELL','SERPINC1','CDCP1','RORA','COCH','CSF1','F2RL2','UCK2','CA2','IFITM3','UMPS','HUWE1','COL6A1','ABCB1','RNH1','IRF8','GUCY1B1','AHCY','PRAF2','GSTO1','TWSG1','CDC42SE2','PLAGL1','APLP1','PLPP1','SPRY4','SCN9A','SHE','PDCD2L','CCND3','LRIG1','SWAP70','SLC39A8','RABGAP1L','TGM2','PNP','AGER','ETV4','CD86'],\n",
    "\n",
    "# #IL6 JAK STAT3\n",
    "# 'HALLMARK_IL6_JAK_STAT3_SIGNALING': ['IL4R','IL6ST','STAT1','IL1R1','CSF2RB','SOCS3','STAT3','OSMR','IL2RG','IFNGR1','TYK2','IL13RA1','TLR2','IFNGR2','IL10RB','IL6','IL1R2','IL3RA','IFNAR1','TNFRSF1A','MYD88','ACVR1B','CSF3R','ITGB3','REG1A','CXCL1','A2M','CSF2RA','IL15RA','IRF9','PDGFC','HAX1','BAK1','EBI3','INHBE','CRLF2','TNFRSF1B','CD14','PTPN1','PTPN2','IL1B','CSF1','IL18R1','TNF','PF4','CXCL13','LTBR','FAS','IL17RA','CXCL10','IL9R','STAM2','TNFRSF12A','STAT2','HMOX1','LEPR','CBL','CD9','CXCL3','TGFB1','MAP3K8','ITGA4','CD38','JUN','SOCS1','ACVRL1','PIM1','TNFRSF21','PIK3R5','GRB2','IRF1','DNTT','CSF2','IL2RA','PTPN11','IL12RB1','CCR1','CNTFR','PLA2G2A','CXCL9','CD44','IL7','CXCL11','CCL7','LTB','IL17RB','CD36'],\n",
    "\n",
    "# #TGF beta\n",
    "# 'HALLMARK_TGF_BETA_SIGNALING': ['TGFBR1','SMAD7','TGFB1','SMURF2','SMURF1','BMPR2','SKIL','SKI','ACVR1','PMEPA1','NCOR2','SERPINE1','JUNB','SMAD1','SMAD6','PPP1R15A','TGIF1','FURIN','SMAD3','FKBP1A','MAP3K7','BMPR1A','CTNNB1','HIPK2','KLF10','BMP2','ENG','APC','PPM1A','XIAP','CDH1','ID1','LEFTY2','CDKN1C','TRIM33','RAB31','TJP1','SLC20A1','CDK9','ID3','NOG','ARID4B','IFNGR2','ID2','PPP1CA','SPTBN1','WWTR1','BCAR3','THBS1','FNTA','HDAC1','UBE2D3','LTBP2','RHOA'],\n",
    "\n",
    "# #Complement\n",
    "# 'HALLMARK_COMPLEMENT': ['C2','C1S','CFB','C1R','SERPINE1','MMP14','SERPING1','CTSL','F5','MMP13','F7','CTSS','LGMN','PLG','C1QA','CASP1','GZMA','ADAM9','CALM3','C1QC','TIMP1','DPP4','KLK1','KLKB1','CD59','CR2','MMP15','LAP3','SPOCK2','F10','CTSB','SERPINA1','CTSO','CD40LG','CBLB','PDP1','C4BPB','PLEK','GP9','PLAUR','C3','F2','CASP4','STX4','CTSC','USP15','CR1','DUSP6','SERPINB2','GPD2','CFH','FN1','CD36','CA2','PSMB9','APOBEC3G','FCN1','GZMK','PDGFB','CLU','CASP10','LRP1','CTSD','S100A9','WAS','BRPF3','PLAT','CDA','MT3','CASP7','PRSS36','PFN1','GZMB','RNF4','ZEB1','CASP5','IRF1','CPQ','CDK5R1','ATOX1','PIK3CA','TMPRSS6','CPM','RCE1','CALM1','DOCK9','KYNU','RASGRP1','USP14','LCP2','GP1BA','KIF2A','GNB4','LCK','OLR1','PREP','MSRB1','LTA4H','ZFPM2','LYN','ACTN2','SIRT6','APOC1','PRKCD','ITGAM','DGKH','LTF','MAFF','KCNIP2','PCLO','DOCK10','SH2B3','RABIF','SRC','HPCAL4','CD46','PRDM4','GNAI3','C9','PPP2CB','IRF2','FYN','JAK2','PLA2G4A','PRCP','USP8','RHOG','L3MBTL4','LAMP2','PIM1','CXCL1','F3','GNAI2','CASP9','XPNPEP1','PLSCR1','IRF7','CD55','HSPA5','GNB2','DYRK2','PLA2G7','S100A12','GRB2','PHEX','GNGT2','DOCK4','MMP12','KCNIP3','FDX1','TIMP2','MMP8','FCER1G','RBSN','ANXA5','CTSV','GCA','EHD1','PRSS3','COL4A2','CSRP1','PIK3R5','SERPINC1','ANG','APOBEC3F','GATA3','DUSP5','CASP3','USP16','CP','PSEN1','LIPA','PCSK9','DGKG','GNG2','ME1','GMFB','SCG3','PPP4C','CCL5','CTSH','F8','APOA4','IL6','AKAP10','ERAP2','VCPIP1','HSPA1A','RAF1','NOTCH4','ADRA2B','CEBPB','HNF4A','LGALS3','TNFAIP3','CDH13','ITIH1','TFPI2','PIK3CG','S100A13'],\n",
    "\n",
    "# #xenobiotic mechanism\n",
    "# 'HALLMARK_XENOBIOTIC_METABOLISM': ['CYP1A1','FAH','DCXR','CYP1A2','GSTA3','CYP2J2','CYP27A1','ADH1C','UGDH','ASL','NQO1','ALAS1','GSTM4','CYP2C18','PTS','CYB5A','ACOX2','EPHX1','LCAT','SLC35D1','GSS','FMO3','IDH1','AKR1C3','SLC22A1','GSTO1','ARG1','CDO1','FMO1','ALDH9A1','POR','NDRG2','UPB1','ECH1','PTGES','PDK4','AHCY','COMT','AOX1','CFB','DDAH2','HGFAC','F11','CYP26A1','MCCC2','SERPINA6','GNMT','BLVRB','HACL1','MAOA','KYNU','DHPS','SERPINE1','SLC6A12','GCH1','DHRS7','PAPSS2','ALDH2','HSD11B1','SLC35B1','KARS1','CA2','LPIN2','CAT','CYP2S1','RAP1GAP','FBP1','RBP4','GCKR','CDA','MTHFD1','ADH7','DHRS1','VNN1','CNDP2','SLC6A6','FETUB','CROT','GAD1','AKR1C2','TKFC','IGF1','SSR3','GABARAPL1','TMBIM6','CD36','CES1','SHMT2','TMEM176B','GSTT2','PLG','HMOX1','SPINT2','ALDH3A1','GSR','ABHD6','XDH','PPARD','ELOVL5','CYP4F2','RETSAT','CYFIP2','PINK1','GCLC','ESR1','PMM1','TDO2','MT2A','ATP2A2','DDT','FABP1','ACP2','ABCD2','G6PC','DDC','ACOX3','SAR1B','FBLN1','ADH5','CRP','ABCC2','ETS2','NPC1','CASP6','BPHL','IL1R1','ENTPD5','TNFRSF1A','IGFBP4','PYCR1','CSAD','VTN','ID2','ETFDH','HRG','TYR','UPP1','BCAR1','CBR1','APOE','SLC12A4','TMEM97','SLC46A3','PTGDS','MPP2','PTGR1','AQP9','EPHA2','PSMB10','FAS','ACOX1','GART','HPRT1','PGD','ABCC3','SMOX','TTPA','HES6','GCNT2','MAN1A1','IGFBP1','ITIH4','PROS1','TPST1','LEAP2','NFS1','PGRMC1','CYP17A1','ARPP19','SERTAD1','ARG2','HNF4A','REG1A','CCL25','PEMT','ACO2','LONP1','NMT1','PTGES3','F10','TAT','MARCHF6','JUP','ACP1','MBL2','TGFB2','ENPEP','HSD17B2','ANGPTL3','PC','PDLIM5','CYP2E1','BCAT1','ATOH8','SLC1A5','IRF8','NINJ1','AP4B1','ACSM1','ITIH1'],\n",
    "\n",
    "# #hypoxia\n",
    "# 'HALLMARK_HYPOXIA': ['PGK1','PDK1','GBE1','PFKL','ALDOA','ENO2','PGM1','NDRG1','HK2','ALDOC','GPI','MXI1','SLC2A1','P4HA1','ADM','P4HA2','ENO1','PFKP','AK4','FAM162A','PFKFB3','VEGFA','BNIP3L','TPI1','ERO1A','KDM3A','CCNG2','LDHA','GYS1','GAPDH','BHLHE40','ANGPTL4','JUN','SERPINE1','LOX','GCK','PPFIA4','MAFF','DDIT4','SLC2A3','IGFBP3','NFIL3','FOS','RBPJ','HK1','CITED2','ISG20','GALK1','WSB1','PYGM','STC1','ZNF292','BTG1','PLIN2','CSRP2','VLDLR','JMJD6','EXT1','F3','PDK3','ANKZF1','UGP2','ALDOB','STC2','ERRFI1','ENO3','PNRC1','HMOX1','PGF','GAPDHS','CHST2','TMEM45A','BCAN','ATF3','CAV1','AMPD3','GPC3','NDST1','IRS2','SAP30','GAA','SDC4','STBD1','IER3','PKLR','IGFBP1','PLAUR','CAVIN3','CCN5','LARGE1','NOCT','S100A4','RRAGD','ZFP36','EGFR','EDN2','IDS','CDKN1A','RORA','DUSP1','MIF','PPP1R3C','DPYSL4','KDELR3','DTNA','ADORA2B','HS3ST1','CAVIN1','NR3C1','KLF6','GPC4','CCN1','TNFAIP3','CA12','HEXA','BGN','PPP1R15A','PGM2','PIM1','PRDX5','NAGK','CDKN1B','BRS3','TKTL1','MT1E','ATP7A','MT2A','SDC3','TIPARP','PKP1','ANXA2','PGAM2','DDIT3','PRKCA','SLC37A4','CXCR4','EFNA3','CP','KLF7','CCN2','CHST3','TPD52','LXN','B4GALNT2','PPARGC1A','BCL2','GCNT2','HAS1','KLHL24','SCARB1','SLC25A1','SDC2','CASP6','VHL','FOXO3','PDGFB','B3GALT6','SLC2A5','SRPX','EFNA1','GLRX','ACKR3','PAM','TGFBI','DCN','SIAH2','PLAC8','FBP1','TPST2','PHKG1','MYH9','CDKN1C','GRHPR','PCK1','INHA','HSPA5','NDST2','NEDD4L','TPBG','XPNPEP1','IL6','SLC6A6','MAP3K1','LDHC','AKAP12','TES','KIF5A','LALBA','COL5A1','GPC1','HDLBP','ILVBL','NCAN','TGM2','ETS1','HOXB9','SELENBP1','FOSL2','SULT2B1','TGFB3']\n",
    "    }"
   ]
  },
  {
   "cell_type": "code",
   "execution_count": 27,
   "metadata": {},
   "outputs": [
    {
     "data": {
      "text/plain": [
       "['HLA_classII', 'ISG']"
      ]
     },
     "execution_count": 27,
     "metadata": {},
     "output_type": "execute_result"
    }
   ],
   "source": [
    "list(gene_list_dict.keys())"
   ]
  },
  {
   "cell_type": "code",
   "execution_count": 38,
   "metadata": {},
   "outputs": [
    {
     "name": "stdout",
     "output_type": "stream",
     "text": [
      "HLA_classII\n",
      "ISG\n",
      "WARNING: genes are not in var_names and ignored: ['WARS1']\n"
     ]
    }
   ],
   "source": [
    "ctrl_size=100\n",
    "#covid_meta= adata_sub.obs.loc[:,['study', 'sample', 'stage', 'severity', 'cell_type']].drop_duplicates()\n",
    "\n",
    "for currentKey in gene_list_dict.keys():\n",
    "    print(currentKey)\n",
    "    sc.tl.score_genes(adata=adata_sub, gene_list=gene_list_dict[currentKey], ctrl_size=ctrl_size, score_name=currentKey)\n",
    "    #scores = pd.DataFrame(adata_sub.obs.groupby(['study', 'cell_type', 'sample'])[currentKey].mean()).reset_index()\n",
    "    #covid_meta = pd.merge(covid_meta, scores, how='left', on=['study', 'cell_type', 'sample']).dropna(how='any')\n",
    "\n",
    "columnsSelect = ['study', 'sample', 'stage', 'severity', 'cell_type', 'barcode'] + list(gene_list_dict.keys())\n",
    "adata_sub.obs[columnsSelect].to_csv('../../dePathwayAndOtherAnalysisInR/results/gene_module_scores.csv')"
   ]
  },
  {
   "cell_type": "markdown",
   "metadata": {},
   "source": [
    "### R code for plotting"
   ]
  },
  {
   "cell_type": "code",
   "execution_count": null,
   "metadata": {},
   "outputs": [],
   "source": [
    "library(ggplot2)\n",
    "library(ggpubr)\n",
    "library(rstatix)\n",
    "library(dplyr)\n",
    "library(stringr)"
   ]
  },
  {
   "cell_type": "code",
   "execution_count": null,
   "metadata": {},
   "outputs": [],
   "source": [
    "theme_set(ggpubr::theme_pubr(base_size=7, legend='right', x.text.angle = 90))"
   ]
  },
  {
   "cell_type": "code",
   "execution_count": null,
   "metadata": {},
   "outputs": [],
   "source": [
    "covid_meta <- read.table('../../dePathwayAndOtherAnalysisInR/results/gene_module_scores.csv', sep=\",\", header=TRUE, quote=\"\")"
   ]
  },
  {
   "cell_type": "code",
   "execution_count": null,
   "metadata": {},
   "outputs": [],
   "source": [
    "#Violin plot showing only healthy, mild, moderate, severe stages\n",
    "keys<-c('HLA_classII', 'ISG')\n",
    "currentConditionColumn<-'stage'\n",
    "df<-droplevels(covid_meta[covid_meta$study%in%c('Lee et al.', 'Wilk et al.', 'Zhang et al.', 'Liao et al.', 'Chua et al.'), ])\n",
    "df$study <- factor(df$study, levels=c('Lee et al.', 'Zhang et al.', 'Wilk et al.', 'Liao et al.', 'Chua et al.'))\n",
    "\n",
    "df<-droplevels(df[!df$cell_type%in%c('doublets','Epithelial','Megakaryocytes','Platelets'),])\n",
    "levels(df$cell_type)[which(levels(df$cell_type)=='$\\\\gamma\\\\delta$ T')] <- '\\u03B3\\u03B4 T'\n",
    "df$stage <- factor(df$stage, levels=c('Healthy', 'Mild', 'Moderate', 'Severe'))\n",
    "\n",
    "for(currentColumn in keys){\n",
    "    for(currentCell in unique(df$cell_type)){\n",
    "        yAxis<-currentColumn\n",
    "        ylabel<-paste(str_replace(currentColumn, '_', ' '), \"module score\")\n",
    "\n",
    "        currentConditionColumn='stage'\n",
    "        myColors<-c('#6A3D9A', '#FDBF6F', '#FB9A99', '#E31A1C')\n",
    "        names(myColors)<-levels(df[, currentConditionColumn])\n",
    "        \n",
    "        sub <- droplevels(df[df$cell_type==currentCell, c('study', currentConditionColumn, yAxis)]) \n",
    "        colnames(sub)<-c('study', 'condition', 'module')\n",
    "        \n",
    "        currentDf<-data.frame()\n",
    "        for(currentStudy in unique(sub$study)){\n",
    "            df1 <- sub %>%filter((study==currentStudy) & (module!=0))\n",
    "            df1 <- droplevels(df1)\n",
    "            summT <- data.frame(table(df1$condition))%>%filter(Freq>=3) #there should be atleast 3 cells per condition\n",
    "\n",
    "            if(nrow(summT)>1){\n",
    "                df2 <- merge(df1, summT, by.x = c(\"condition\"), by.y=c(\"Var1\"))\n",
    "                currentDf<- rbind(df2, currentDf)\n",
    "                }\n",
    "            }\n",
    "\n",
    "        currentDf$condition <- factor(currentDf$condition, levels=levels(sub$condition))\n",
    "        \n",
    "        stat.test <- currentDf %>% group_by(study)%>%pairwise_wilcox_test(data =., formula = (module ~ condition),\n",
    "                             paired = FALSE, p.adjust.method = \"bonferroni\") %>% add_xy_position()\n",
    "        num_y <- stat.test%>%group_by(study)%>%filter(p.adj<0.05)%>%count()\n",
    "        if(nrow(num_y)>0){\n",
    "            list_y <- list()\n",
    "            for(currentStudy in unique(num_y$study)){\n",
    "                temp<- stat.test%>%filter(study==currentStudy)%>%arrange(y.position)\n",
    "                list_y <- c(list_y, temp$y.position[1:num_y$n[num_y$study==currentStudy]])\n",
    "            }\n",
    "            y.position=unlist(list_y)\n",
    "            }else{\n",
    "            y.position=\"y.position\"\n",
    "        }\n",
    "\n",
    "        g<-ggplot(sub, aes(x=condition, y=module))+\n",
    "            geom_violin(aes(fill=condition), color = NA)+\n",
    "            scale_fill_manual(values = myColors, name=currentConditionColumn)+\n",
    "            ylab(ylabel)+\n",
    "            xlab(currentConditionColumn)+\n",
    "            theme_pubr(base_size = 7)+\n",
    "            theme(axis.text.x = element_text(vjust=0.5, angle=90, hjust=1), \n",
    "                      panel.spacing = unit(0.1, \"lines\"), legend.position = \"none\",\n",
    "                     panel.border = element_rect(colour = \"black\", fill = NA))+\n",
    "            facet_wrap(.~study, nrow=1)+\n",
    "            stat_pvalue_manual(stat.test, label = \"p.adj.signif\", hide.ns = TRUE, tip.length = 0.01, y.position = y.position)\n",
    "            ggsave(paste('../../dePathwayAndOtherAnalysisInR/results/GeneModuleScores','_',currentColumn,'_',currentCell,'.pdf', sep=\"\"), dpi=300, width=9, height=9, units='cm')\n",
    "    }\n",
    "}"
   ]
  }
 ],
 "metadata": {
  "kernelspec": {
   "display_name": "Python 3",
   "language": "python",
   "name": "python3"
  },
  "language_info": {
   "codemirror_mode": {
    "name": "ipython",
    "version": 3
   },
   "file_extension": ".py",
   "mimetype": "text/x-python",
   "name": "python",
   "nbconvert_exporter": "python",
   "pygments_lexer": "ipython3",
   "version": "3.8.2"
  }
 },
 "nbformat": 4,
 "nbformat_minor": 4
}
